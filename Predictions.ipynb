{
 "cells": [
  {
   "cell_type": "code",
   "execution_count": 130,
   "id": "d9392f17",
   "metadata": {},
   "outputs": [],
   "source": [
    "# Importing all the libraries:-\n",
    "import numpy as np\n",
    "import tensorflow as tf\n",
    "from tensorflow.keras.datasets import imdb\n",
    "from tensorflow.keras.preprocessing.sequence import pad_sequences\n",
    "from tensorflow.keras.models import load_model"
   ]
  },
  {
   "cell_type": "code",
   "execution_count": 131,
   "id": "4f266188",
   "metadata": {},
   "outputs": [],
   "source": [
    "#Loading word indices:-\n",
    "index = imdb.get_word_index()\n",
    "ind_to_word = {value: key for key, value in index.items()}"
   ]
  },
  {
   "cell_type": "code",
   "execution_count": 132,
   "id": "0c94af80",
   "metadata": {},
   "outputs": [
    {
     "name": "stderr",
     "output_type": "stream",
     "text": [
      "WARNING:absl:Compiled the loaded model, but the compiled metrics have yet to be built. `model.compile_metrics` will be empty until you train or evaluate the model.\n"
     ]
    },
    {
     "data": {
      "text/html": [
       "<pre style=\"white-space:pre;overflow-x:auto;line-height:normal;font-family:Menlo,'DejaVu Sans Mono',consolas,'Courier New',monospace\"><span style=\"font-weight: bold\">Model: \"sequential\"</span>\n",
       "</pre>\n"
      ],
      "text/plain": [
       "\u001b[1mModel: \"sequential\"\u001b[0m\n"
      ]
     },
     "metadata": {},
     "output_type": "display_data"
    },
    {
     "data": {
      "text/html": [
       "<pre style=\"white-space:pre;overflow-x:auto;line-height:normal;font-family:Menlo,'DejaVu Sans Mono',consolas,'Courier New',monospace\">┏━━━━━━━━━━━━━━━━━━━━━━━━━━━━━━━━━┳━━━━━━━━━━━━━━━━━━━━━━━━┳━━━━━━━━━━━━━━━┓\n",
       "┃<span style=\"font-weight: bold\"> Layer (type)                    </span>┃<span style=\"font-weight: bold\"> Output Shape           </span>┃<span style=\"font-weight: bold\">       Param # </span>┃\n",
       "┡━━━━━━━━━━━━━━━━━━━━━━━━━━━━━━━━━╇━━━━━━━━━━━━━━━━━━━━━━━━╇━━━━━━━━━━━━━━━┩\n",
       "│ embedding (<span style=\"color: #0087ff; text-decoration-color: #0087ff\">Embedding</span>)           │ (<span style=\"color: #00af00; text-decoration-color: #00af00\">32</span>, <span style=\"color: #00af00; text-decoration-color: #00af00\">500</span>, <span style=\"color: #00af00; text-decoration-color: #00af00\">128</span>)         │     <span style=\"color: #00af00; text-decoration-color: #00af00\">1,280,000</span> │\n",
       "├─────────────────────────────────┼────────────────────────┼───────────────┤\n",
       "│ simple_rnn (<span style=\"color: #0087ff; text-decoration-color: #0087ff\">SimpleRNN</span>)          │ (<span style=\"color: #00af00; text-decoration-color: #00af00\">32</span>, <span style=\"color: #00af00; text-decoration-color: #00af00\">128</span>)              │        <span style=\"color: #00af00; text-decoration-color: #00af00\">32,896</span> │\n",
       "├─────────────────────────────────┼────────────────────────┼───────────────┤\n",
       "│ dense (<span style=\"color: #0087ff; text-decoration-color: #0087ff\">Dense</span>)                   │ (<span style=\"color: #00af00; text-decoration-color: #00af00\">32</span>, <span style=\"color: #00af00; text-decoration-color: #00af00\">1</span>)                │           <span style=\"color: #00af00; text-decoration-color: #00af00\">129</span> │\n",
       "└─────────────────────────────────┴────────────────────────┴───────────────┘\n",
       "</pre>\n"
      ],
      "text/plain": [
       "┏━━━━━━━━━━━━━━━━━━━━━━━━━━━━━━━━━┳━━━━━━━━━━━━━━━━━━━━━━━━┳━━━━━━━━━━━━━━━┓\n",
       "┃\u001b[1m \u001b[0m\u001b[1mLayer (type)                   \u001b[0m\u001b[1m \u001b[0m┃\u001b[1m \u001b[0m\u001b[1mOutput Shape          \u001b[0m\u001b[1m \u001b[0m┃\u001b[1m \u001b[0m\u001b[1m      Param #\u001b[0m\u001b[1m \u001b[0m┃\n",
       "┡━━━━━━━━━━━━━━━━━━━━━━━━━━━━━━━━━╇━━━━━━━━━━━━━━━━━━━━━━━━╇━━━━━━━━━━━━━━━┩\n",
       "│ embedding (\u001b[38;5;33mEmbedding\u001b[0m)           │ (\u001b[38;5;34m32\u001b[0m, \u001b[38;5;34m500\u001b[0m, \u001b[38;5;34m128\u001b[0m)         │     \u001b[38;5;34m1,280,000\u001b[0m │\n",
       "├─────────────────────────────────┼────────────────────────┼───────────────┤\n",
       "│ simple_rnn (\u001b[38;5;33mSimpleRNN\u001b[0m)          │ (\u001b[38;5;34m32\u001b[0m, \u001b[38;5;34m128\u001b[0m)              │        \u001b[38;5;34m32,896\u001b[0m │\n",
       "├─────────────────────────────────┼────────────────────────┼───────────────┤\n",
       "│ dense (\u001b[38;5;33mDense\u001b[0m)                   │ (\u001b[38;5;34m32\u001b[0m, \u001b[38;5;34m1\u001b[0m)                │           \u001b[38;5;34m129\u001b[0m │\n",
       "└─────────────────────────────────┴────────────────────────┴───────────────┘\n"
      ]
     },
     "metadata": {},
     "output_type": "display_data"
    },
    {
     "data": {
      "text/html": [
       "<pre style=\"white-space:pre;overflow-x:auto;line-height:normal;font-family:Menlo,'DejaVu Sans Mono',consolas,'Courier New',monospace\"><span style=\"font-weight: bold\"> Total params: </span><span style=\"color: #00af00; text-decoration-color: #00af00\">1,313,027</span> (5.01 MB)\n",
       "</pre>\n"
      ],
      "text/plain": [
       "\u001b[1m Total params: \u001b[0m\u001b[38;5;34m1,313,027\u001b[0m (5.01 MB)\n"
      ]
     },
     "metadata": {},
     "output_type": "display_data"
    },
    {
     "data": {
      "text/html": [
       "<pre style=\"white-space:pre;overflow-x:auto;line-height:normal;font-family:Menlo,'DejaVu Sans Mono',consolas,'Courier New',monospace\"><span style=\"font-weight: bold\"> Trainable params: </span><span style=\"color: #00af00; text-decoration-color: #00af00\">1,313,025</span> (5.01 MB)\n",
       "</pre>\n"
      ],
      "text/plain": [
       "\u001b[1m Trainable params: \u001b[0m\u001b[38;5;34m1,313,025\u001b[0m (5.01 MB)\n"
      ]
     },
     "metadata": {},
     "output_type": "display_data"
    },
    {
     "data": {
      "text/html": [
       "<pre style=\"white-space:pre;overflow-x:auto;line-height:normal;font-family:Menlo,'DejaVu Sans Mono',consolas,'Courier New',monospace\"><span style=\"font-weight: bold\"> Non-trainable params: </span><span style=\"color: #00af00; text-decoration-color: #00af00\">0</span> (0.00 B)\n",
       "</pre>\n"
      ],
      "text/plain": [
       "\u001b[1m Non-trainable params: \u001b[0m\u001b[38;5;34m0\u001b[0m (0.00 B)\n"
      ]
     },
     "metadata": {},
     "output_type": "display_data"
    },
    {
     "data": {
      "text/html": [
       "<pre style=\"white-space:pre;overflow-x:auto;line-height:normal;font-family:Menlo,'DejaVu Sans Mono',consolas,'Courier New',monospace\"><span style=\"font-weight: bold\"> Optimizer params: </span><span style=\"color: #00af00; text-decoration-color: #00af00\">2</span> (12.00 B)\n",
       "</pre>\n"
      ],
      "text/plain": [
       "\u001b[1m Optimizer params: \u001b[0m\u001b[38;5;34m2\u001b[0m (12.00 B)\n"
      ]
     },
     "metadata": {},
     "output_type": "display_data"
    }
   ],
   "source": [
    "# Loading \".h5\" file:-\n",
    "imdb_model=load_model(\"simple_rnn_imdb.h5\")\n",
    "imdb_model.summary()"
   ]
  },
  {
   "cell_type": "code",
   "execution_count": 133,
   "id": "62f9e762",
   "metadata": {},
   "outputs": [
    {
     "data": {
      "text/plain": [
       "[array([[-0.4494014 ,  0.3241826 ,  0.28682765, ...,  0.33722973,\n",
       "          0.3433083 ,  0.38433674],\n",
       "        [ 0.00854072,  0.00367465, -0.0324637 , ...,  0.00956101,\n",
       "         -0.01492488, -0.01639586],\n",
       "        [ 0.01028395,  0.00106992, -0.01830024, ..., -0.00964774,\n",
       "          0.04946963, -0.05530215],\n",
       "        ...,\n",
       "        [-0.10980264, -0.03054322,  0.0595713 , ...,  0.05849287,\n",
       "         -0.0228735 ,  0.03656373],\n",
       "        [ 0.00958046,  0.09231535, -0.02458825, ..., -0.0645039 ,\n",
       "          0.00165265,  0.01881351],\n",
       "        [-0.01662438, -0.0337408 ,  0.02019105, ...,  0.09918456,\n",
       "         -0.10739267,  0.04547555]], shape=(10000, 128), dtype=float32),\n",
       " array([[-0.04118454,  0.06920996, -0.07048994, ..., -0.01581321,\n",
       "          0.01633723,  0.09791146],\n",
       "        [-0.02188951, -0.08881692, -0.01847722, ..., -0.04744362,\n",
       "          0.08334118,  0.07470454],\n",
       "        [ 0.10019523,  0.10061982, -0.04198112, ...,  0.15178056,\n",
       "          0.08708587, -0.06691618],\n",
       "        ...,\n",
       "        [ 0.05297945,  0.0550263 , -0.1348038 , ...,  0.01019831,\n",
       "          0.10900836,  0.04500486],\n",
       "        [ 0.08923108, -0.05670517,  0.00912764, ..., -0.09625125,\n",
       "          0.16986981, -0.10223383],\n",
       "        [ 0.07984109,  0.04310653, -0.06165617, ..., -0.06774107,\n",
       "         -0.05401199, -0.01600699]], shape=(128, 128), dtype=float32),\n",
       " array([[-0.04490846,  0.02505374, -0.09533355, ...,  0.00119218,\n",
       "          0.16477254, -0.11434828],\n",
       "        [-0.03650521, -0.08153531, -0.23002155, ..., -0.01920622,\n",
       "         -0.02498462, -0.03539935],\n",
       "        [-0.12494583,  0.03362128,  0.05242977, ..., -0.01925007,\n",
       "          0.12716731, -0.04934638],\n",
       "        ...,\n",
       "        [-0.09579688,  0.05175707, -0.19408934, ..., -0.02679629,\n",
       "          0.0759791 ,  0.05606016],\n",
       "        [-0.21419714,  0.10537548,  0.26695788, ..., -0.09026244,\n",
       "          0.02464123, -0.0437255 ],\n",
       "        [-0.03371673, -0.09303746,  0.00157848, ..., -0.00661926,\n",
       "          0.10250485,  0.18011783]], shape=(128, 128), dtype=float32),\n",
       " array([-7.49818608e-03, -1.75349880e-02, -7.81021360e-03,  1.09201632e-02,\n",
       "        -9.89006832e-03, -3.75320017e-02, -1.40796825e-02, -4.85125789e-03,\n",
       "         1.23749338e-02, -1.17718671e-02,  1.34413093e-02, -9.91224404e-03,\n",
       "        -6.24576863e-03, -1.13463812e-02,  1.34206507e-02,  8.81999545e-03,\n",
       "        -4.57992451e-03, -2.09813733e-02, -1.31586269e-02,  1.48396175e-02,\n",
       "        -1.32103320e-02,  1.85293239e-02, -5.68834133e-03, -8.83748382e-03,\n",
       "        -6.12892490e-03,  9.70656052e-03, -2.21889168e-02,  1.27588725e-02,\n",
       "        -2.76060950e-04, -1.88401956e-02, -1.04085766e-02, -1.06224669e-02,\n",
       "         8.58122483e-04, -1.26891090e-02, -4.75861365e-03,  6.98867952e-03,\n",
       "        -9.42313112e-03,  5.21391490e-03, -1.67993866e-02,  2.18630675e-02,\n",
       "         1.15894647e-02,  1.94903873e-02, -5.95936598e-03,  3.40207457e-03,\n",
       "        -4.92207287e-03, -1.01446733e-02, -4.21826914e-03, -1.89964734e-02,\n",
       "         2.46252865e-03, -5.06437942e-03,  2.30937377e-02, -7.05651520e-03,\n",
       "        -2.93976464e-03, -1.64233837e-02, -7.61186602e-05, -6.73199818e-03,\n",
       "        -1.67126022e-02, -1.67691114e-03, -3.05053429e-03, -2.03109924e-02,\n",
       "        -2.78818421e-02,  7.65146781e-03,  1.49656096e-02, -1.04351761e-02,\n",
       "        -5.80059923e-03, -1.22242030e-02,  7.46808713e-03,  1.08787669e-02,\n",
       "        -1.52649693e-02, -7.73781817e-03,  7.77471298e-03,  1.98837612e-02,\n",
       "        -1.38488598e-03, -1.17631247e-02, -8.35301820e-03,  2.38436628e-02,\n",
       "        -5.72602591e-03, -2.89896168e-02,  9.25710704e-03, -1.55256493e-02,\n",
       "        -1.86996181e-02,  1.01816813e-02,  5.04004955e-03, -6.60171919e-03,\n",
       "        -3.14030051e-02, -2.38862708e-02, -1.08491108e-02, -1.34927658e-02,\n",
       "        -1.19873947e-02, -6.37359591e-03, -1.21857123e-02, -1.80270616e-02,\n",
       "        -2.85489904e-03, -3.95207852e-03, -1.60585605e-02,  5.89115033e-03,\n",
       "        -1.50578097e-02, -2.07726303e-02,  1.40657350e-02, -5.16433176e-03,\n",
       "        -2.00041998e-02,  1.09522492e-02, -1.22376038e-02, -9.90181416e-03,\n",
       "         1.37635702e-02,  8.34553782e-03, -9.17708967e-03,  2.17373818e-02,\n",
       "        -8.99880566e-03,  2.37683337e-02, -8.98523349e-03, -1.54084563e-02,\n",
       "        -1.23923765e-02, -2.24169437e-03, -9.92136914e-03, -2.00304966e-02,\n",
       "        -1.46313384e-02, -1.97339430e-02,  6.90035988e-03,  1.58288945e-02,\n",
       "         1.25227161e-02,  5.89735061e-03,  1.06874609e-03, -1.76283065e-02,\n",
       "        -1.17740314e-02,  1.81458518e-02, -3.62959038e-03, -4.63656709e-03],\n",
       "       dtype=float32),\n",
       " array([[ 0.16077551],\n",
       "        [ 0.09214407],\n",
       "        [ 0.715856  ],\n",
       "        [-0.15617165],\n",
       "        [ 0.04119713],\n",
       "        [ 0.11287572],\n",
       "        [-0.0941821 ],\n",
       "        [ 0.11137875],\n",
       "        [-0.20459187],\n",
       "        [-0.01597495],\n",
       "        [-0.17181294],\n",
       "        [ 0.19011748],\n",
       "        [ 0.17508626],\n",
       "        [ 0.14748538],\n",
       "        [-0.23176812],\n",
       "        [ 0.00363638],\n",
       "        [ 0.1513488 ],\n",
       "        [-0.238542  ],\n",
       "        [-0.08251739],\n",
       "        [ 0.08261654],\n",
       "        [ 0.23139797],\n",
       "        [-0.11612041],\n",
       "        [-0.21031894],\n",
       "        [ 0.04796932],\n",
       "        [ 0.06209392],\n",
       "        [ 0.08457807],\n",
       "        [ 0.9377163 ],\n",
       "        [-0.23183557],\n",
       "        [-0.07111436],\n",
       "        [ 0.6185978 ],\n",
       "        [-0.0473513 ],\n",
       "        [-0.17986634],\n",
       "        [-0.20068865],\n",
       "        [ 0.9252581 ],\n",
       "        [ 0.18091339],\n",
       "        [-0.11216073],\n",
       "        [ 0.06382003],\n",
       "        [ 0.11041034],\n",
       "        [ 0.19318494],\n",
       "        [-0.18135224],\n",
       "        [-0.17156604],\n",
       "        [ 0.37948105],\n",
       "        [ 0.36537266],\n",
       "        [ 0.1846509 ],\n",
       "        [ 0.11710283],\n",
       "        [ 0.7862904 ],\n",
       "        [ 0.21435206],\n",
       "        [-0.39345095],\n",
       "        [-0.17488837],\n",
       "        [-0.16296291],\n",
       "        [ 0.00961827],\n",
       "        [-0.04327432],\n",
       "        [ 0.10559429],\n",
       "        [ 0.03992131],\n",
       "        [ 0.10295428],\n",
       "        [ 0.17208894],\n",
       "        [-0.06549399],\n",
       "        [-0.0051059 ],\n",
       "        [ 0.11964722],\n",
       "        [ 0.16180147],\n",
       "        [ 0.04444769],\n",
       "        [ 0.05049707],\n",
       "        [-0.14061269],\n",
       "        [ 0.18772143],\n",
       "        [ 0.02966812],\n",
       "        [ 0.33557445],\n",
       "        [ 0.43555003],\n",
       "        [-0.00376904],\n",
       "        [ 0.05970779],\n",
       "        [-0.20874903],\n",
       "        [-0.13647623],\n",
       "        [-0.02657586],\n",
       "        [ 0.16346437],\n",
       "        [ 0.15694271],\n",
       "        [ 0.23433295],\n",
       "        [ 0.05073646],\n",
       "        [-0.00966811],\n",
       "        [ 0.09821033],\n",
       "        [ 0.12832236],\n",
       "        [ 0.06020501],\n",
       "        [-0.08952135],\n",
       "        [-0.089545  ],\n",
       "        [ 0.10906582],\n",
       "        [ 0.19556974],\n",
       "        [-0.41674873],\n",
       "        [ 1.2571585 ],\n",
       "        [ 0.55924267],\n",
       "        [ 0.21851306],\n",
       "        [ 0.12360221],\n",
       "        [-0.02461407],\n",
       "        [ 0.09021392],\n",
       "        [ 0.19396228],\n",
       "        [ 0.9803567 ],\n",
       "        [ 0.06252134],\n",
       "        [ 0.06466813],\n",
       "        [-0.12397462],\n",
       "        [ 0.51347977],\n",
       "        [ 0.03970512],\n",
       "        [ 0.03652961],\n",
       "        [ 1.2746077 ],\n",
       "        [ 0.12598196],\n",
       "        [-0.04643381],\n",
       "        [-0.0401719 ],\n",
       "        [ 0.07437944],\n",
       "        [ 0.08966784],\n",
       "        [ 0.13600089],\n",
       "        [ 0.04805682],\n",
       "        [ 0.15957114],\n",
       "        [-0.03520043],\n",
       "        [-0.13260467],\n",
       "        [ 0.14578104],\n",
       "        [ 0.06119595],\n",
       "        [ 0.11524303],\n",
       "        [-0.13112536],\n",
       "        [ 0.69929695],\n",
       "        [ 0.47276634],\n",
       "        [-0.01023908],\n",
       "        [ 0.36352602],\n",
       "        [-0.13808641],\n",
       "        [-0.2060036 ],\n",
       "        [-0.19898675],\n",
       "        [ 1.176977  ],\n",
       "        [-0.19278266],\n",
       "        [ 0.4364447 ],\n",
       "        [-0.11069804],\n",
       "        [-0.16390477],\n",
       "        [ 0.09583891],\n",
       "        [-0.00551807]], dtype=float32),\n",
       " array([0.6957148], dtype=float32)]"
      ]
     },
     "execution_count": 133,
     "metadata": {},
     "output_type": "execute_result"
    }
   ],
   "source": [
    "imdb_model.get_weights()"
   ]
  },
  {
   "cell_type": "markdown",
   "id": "51b2bcb5",
   "metadata": {},
   "source": [
    "IMDB dataset reserves first 3 indices:\n",
    "\n",
    "0 → padding\n",
    "\n",
    "1 → start of sequence\n",
    "\n",
    "2 → unknown word"
   ]
  },
  {
   "cell_type": "code",
   "execution_count": 134,
   "id": "2bdcc156",
   "metadata": {},
   "outputs": [],
   "source": [
    "#Some Helper Functions:-\n",
    "\n",
    "# Decoding of the review(Bits to Words):-\n",
    "def decode(encoded_text):\n",
    "    return ' '.join([ind_to_word.get(i - 3, '?') for i in encoded_text])\n",
    "\n",
    "# Encoding of the review(Words to Bits):-\n",
    "def preprocess(words):\n",
    "    sent=words.lower().split()\n",
    "    encoded_text = [index.get(word, 2) + 3 for word in sent]\n",
    "    padded =pad_sequences([encoded_text], maxlen=500)\n",
    "    return padded"
   ]
  },
  {
   "cell_type": "code",
   "execution_count": 143,
   "id": "271e27f9",
   "metadata": {},
   "outputs": [],
   "source": [
    "# Get input text to predict:-\n",
    "def prediction(text):\n",
    "    preprocessed_text=preprocess(text)\n",
    "    pred=imdb_model.predict(preprocessed_text)\n",
    "    if pred[0][0] > 0.65:\n",
    "        sentiment = 'Positive Review'  \n",
    "    elif pred[0][0] > 0.35 and pred[0][0] < 0.65:\n",
    "        sentiment='Mixed Review'\n",
    "    else:\n",
    "        sentiment='Negative Review'\n",
    "    return sentiment, pred[0][0]"
   ]
  },
  {
   "cell_type": "code",
   "execution_count": 145,
   "id": "ee49e8b9",
   "metadata": {},
   "outputs": [
    {
     "name": "stdout",
     "output_type": "stream",
     "text": [
      "\u001b[1m1/1\u001b[0m \u001b[32m━━━━━━━━━━━━━━━━━━━━\u001b[0m\u001b[37m\u001b[0m \u001b[1m0s\u001b[0m 38ms/step\n",
      "Review: Some characters were fun, but the pacing was really slow.\n",
      "Prediction: Mixed Review\n",
      "Confidence Score: 0.5718821\n"
     ]
    }
   ],
   "source": [
    "# Example use-case:-\n",
    "review=\"Some characters were fun, but the pacing was really slow.\"\n",
    "sentiment,score=prediction(review)\n",
    "\n",
    "print(\"Review:\",review)\n",
    "print(\"Prediction:\",sentiment)\n",
    "print(\"Confidence Score:\",score)"
   ]
  },
  {
   "cell_type": "code",
   "execution_count": null,
   "id": "8e7c4ed4",
   "metadata": {},
   "outputs": [],
   "source": []
  },
  {
   "cell_type": "code",
   "execution_count": null,
   "id": "5cbdc567",
   "metadata": {},
   "outputs": [],
   "source": []
  },
  {
   "cell_type": "code",
   "execution_count": null,
   "id": "d0223a88",
   "metadata": {},
   "outputs": [],
   "source": []
  }
 ],
 "metadata": {
  "kernelspec": {
   "display_name": "Python 3",
   "language": "python",
   "name": "python3"
  },
  "language_info": {
   "codemirror_mode": {
    "name": "ipython",
    "version": 3
   },
   "file_extension": ".py",
   "mimetype": "text/x-python",
   "name": "python",
   "nbconvert_exporter": "python",
   "pygments_lexer": "ipython3",
   "version": "3.13.1"
  }
 },
 "nbformat": 4,
 "nbformat_minor": 5
}
